{
  "nbformat": 4,
  "nbformat_minor": 0,
  "metadata": {
    "colab": {
      "provenance": []
    },
    "kernelspec": {
      "name": "python3",
      "display_name": "Python 3"
    },
    "language_info": {
      "name": "python"
    }
  },
  "cells": [
    {
      "cell_type": "code",
      "source": [
        "# Implement two variants of DE. First of them is the original rand/1/bin and the second is the more modern adaptive variant - jDE.\n",
        "\n",
        "# ______________________________________\n",
        "# Recommended parameter values for Rand/1/bin CR = 0.3; F = 0.5\n",
        "# for jDE: tau1 = tau2 = 0.1; CR = init to 0.3 (range 0 to 1); F = init to 0.5 (range 0.1 to 0.9)\n",
        "\n",
        "# ______________________________________\n",
        "# Mutation\n",
        "# Rand/1:\n",
        "# v_i = x_r1 + F(x_r2 - x_r3)\n",
        "\n",
        "# ______________________________________\n",
        "# Crossover\n",
        "# j_rand = randInt(1, D)\n",
        "# u_i,j = v_i,j, if rand(0,1) <= CR or j = j_rand\n",
        "#        = x_i,j\n",
        "# ______________________________________\n",
        "\n",
        "# Tasks\n",
        "# 1) Implement DE versions: Rand/1/bin and jDE\n",
        "# 2) Test both versions on test functions"
      ],
      "metadata": {
        "id": "iljGnSJ7UCha"
      },
      "execution_count": null,
      "outputs": []
    },
    {
      "cell_type": "code",
      "source": [
        "import numpy as np\n",
        "\n",
        "def sphere(x):\n",
        "    \"\"\"Sphere function.\"\"\"\n",
        "    return np.sum(x**2)\n",
        "\n",
        "def schwefel(x):\n",
        "    \"\"\"Schwefel function.\"\"\"\n",
        "    return 418.9829 * len(x) - np.sum(x * np.sin(np.sqrt(np.abs(x))))\n",
        "\n",
        "def rastrigin(x):\n",
        "    \"\"\"Rastrigin function.\"\"\"\n",
        "    return 10 * len(x) + np.sum(x**2 - 10 * np.cos(2 * np.pi * x))"
      ],
      "metadata": {
        "id": "KWEOVH9bpdGk"
      },
      "execution_count": null,
      "outputs": []
    },
    {
      "cell_type": "code",
      "source": [
        "def rand_1_bin_de(pop_size, dim, bounds, max_iter, obj_func, CR=0.3, F=0.5):\n",
        "    \"\"\"Implementation of Rand/1/bin Differential Evolution.\"\"\"\n",
        "    # Initialization\n",
        "    population = np.random.uniform(bounds[0], bounds[1], size=(pop_size, dim))\n",
        "    best_solution = population[np.argmin([obj_func(ind) for ind in population])]\n",
        "\n",
        "    for _ in range(max_iter):\n",
        "        for i in range(pop_size):\n",
        "            # Mutation\n",
        "            r1, r2, r3 = np.random.choice(pop_size, 3, replace=False)\n",
        "            v = population[r1] + F * (population[r2] - population[r3])\n",
        "\n",
        "            # Crossover\n",
        "            j_rand = np.random.randint(dim)\n",
        "            mask = np.random.rand(dim) <= CR\n",
        "            u = np.where(mask | (np.arange(dim) == j_rand), v, population[i])\n",
        "\n",
        "            # Selection\n",
        "            if obj_func(u) < obj_func(population[i]):\n",
        "                population[i] = u\n",
        "\n",
        "        # Update best solution\n",
        "        current_best = population[np.argmin([obj_func(ind) for ind in population])]\n",
        "        if obj_func(current_best) < obj_func(best_solution):\n",
        "            best_solution = current_best\n",
        "\n",
        "    return best_solution, obj_func(best_solution)\n",
        "\n",
        "def jde(pop_size, dim, bounds, max_iter, obj_func, tau1=0.1, tau2=0.1, CR_range=(0, 1), F_range=(0.1, 0.9)):\n",
        "    \"\"\"Implementation of jDE (self-adaptive) Differential Evolution.\"\"\"\n",
        "    # Initialization\n",
        "    population = np.random.uniform(bounds[0], bounds[1], size=(pop_size, dim))\n",
        "    CR = np.random.uniform(*CR_range, size=pop_size)\n",
        "    F = np.random.uniform(*F_range, size=pop_size)\n",
        "    best_solution = population[np.argmin([obj_func(ind) for ind in population])]\n",
        "\n",
        "    for _ in range(max_iter):\n",
        "        for i in range(pop_size):\n",
        "            # Mutation\n",
        "            r1, r2, r3 = np.random.choice(pop_size, 3, replace=False)\n",
        "            v = population[r1] + F[i] * (population[r2] - population[r3])\n",
        "\n",
        "            # Crossover\n",
        "            j_rand = np.random.randint(dim)\n",
        "            mask = np.random.rand(dim) <= CR[i]\n",
        "            u = np.where(mask | (np.arange(dim) == j_rand), v, population[i])\n",
        "\n",
        "            # Selection\n",
        "            if obj_func(u) < obj_func(population[i]):\n",
        "                population[i] = u\n",
        "\n",
        "                # Adaptation of CR and F\n",
        "                CR[i] = max(0, min(1, CR[i] * np.exp(tau1 * np.random.normal(0, 1))))\n",
        "                F[i] = max(0.1, min(0.9, F[i] * np.exp(tau2 * np.random.normal(0, 1))))\n",
        "\n",
        "        # Update best solution\n",
        "        current_best = population[np.argmin([obj_func(ind) for ind in population])]\n",
        "        if obj_func(current_best) < obj_func(best_solution):\n",
        "            best_solution = current_best\n",
        "\n",
        "    return best_solution, obj_func(best_solution)"
      ],
      "metadata": {
        "id": "kfaucxrspjp0"
      },
      "execution_count": null,
      "outputs": []
    },
    {
      "cell_type": "code",
      "source": [
        "# Test on Sphere, Schwefel, and Rastrigin functions\n",
        "pop_size = 50\n",
        "dim = 10\n",
        "bounds = (-5.12, 5.12)  # Assuming the same bounds for all functions\n",
        "max_iter = 100"
      ],
      "metadata": {
        "id": "FsX0CVjkpq28"
      },
      "execution_count": null,
      "outputs": []
    },
    {
      "cell_type": "code",
      "source": [
        "# Test Rand/1/bin DE\n",
        "print(\"Rand/1/bin DE:\")\n",
        "for obj_func in [sphere, schwefel, rastrigin]:\n",
        "    best_solution, best_value = rand_1_bin_de(pop_size, dim, bounds, max_iter, obj_func)\n",
        "    print(f\"{obj_func.__name__}: Best Value = {best_value}, Best Solution = {best_solution}\")"
      ],
      "metadata": {
        "colab": {
          "base_uri": "https://localhost:8080/"
        },
        "id": "HdQlt3AXpuGc",
        "outputId": "e735524b-b6f3-436d-e607-dbf8d0189ec1"
      },
      "execution_count": null,
      "outputs": [
        {
          "output_type": "stream",
          "name": "stdout",
          "text": [
            "Rand/1/bin DE:\n",
            "sphere: Best Value = 0.000763633900295364, Best Solution = [-4.29482154e-03 -1.57403064e-02  5.82418184e-03 -1.76382484e-03\n",
            "  9.91071198e-03 -2.81411145e-03  5.17399899e-05 -1.38318185e-02\n",
            " -6.76977353e-03 -1.08215453e-02]\n",
            "schwefel: Best Value = 4089.970883163866, Best Solution = [  5.24261607   5.29488519   5.22100726   5.2862565    5.29681471\n",
            " -25.96412445 -25.91196776 -25.83390258   5.29146592   5.09862801]\n",
            "rastrigin: Best Value = 17.969861438755856, Best Solution = [ 0.88746905 -0.06602111  0.96410004  1.06482898 -0.99141114  0.98024245\n",
            " -2.00987604  1.00120162  0.9005062   0.99935943]\n"
          ]
        }
      ]
    },
    {
      "cell_type": "code",
      "source": [
        "# Test jDE\n",
        "print(\"\\njDE:\")\n",
        "for obj_func in [sphere, schwefel, rastrigin]:\n",
        "    best_solution, best_value = jde(pop_size, dim, bounds, max_iter, obj_func)\n",
        "    print(f\"{obj_func.__name__}: Best Value = {best_value}, Best Solution = {best_solution}\")"
      ],
      "metadata": {
        "colab": {
          "base_uri": "https://localhost:8080/"
        },
        "id": "GtQ3oNrfpwRc",
        "outputId": "8250954b-7707-4cba-d67b-e5d684446cc9"
      },
      "execution_count": null,
      "outputs": [
        {
          "output_type": "stream",
          "name": "stdout",
          "text": [
            "\n",
            "jDE:\n",
            "sphere: Best Value = 0.0014362165042525118, Best Solution = [-0.0190835  -0.00454534  0.00532286  0.00371393 -0.00941335  0.01732694\n",
            " -0.01594891 -0.01877008  0.00283546 -0.00238594]\n",
            "schwefel: Best Value = 4069.82721698993, Best Solution = [-25.85084589   5.22140409   5.22832235 -25.86712738   5.25191801\n",
            "   5.18181087   5.23943267 -25.82301895   5.25982185 -25.821012  ]\n",
            "rastrigin: Best Value = 13.394301490147868, Best Solution = [ 0.00952674 -0.02074236 -0.04363481  0.95628899  1.01079856  1.10813759\n",
            " -0.89502315  0.8969339   0.04138019  0.07401259]\n"
          ]
        }
      ]
    },
    {
      "cell_type": "code",
      "source": [],
      "metadata": {
        "id": "cv04ICezpx7M"
      },
      "execution_count": null,
      "outputs": []
    }
  ]
}